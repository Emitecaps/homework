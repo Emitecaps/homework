{
 "cells": [
  {
   "cell_type": "code",
   "execution_count": 1,
   "id": "0b63ddf5-5fed-4063-b4f5-344f5afc7a24",
   "metadata": {},
   "outputs": [],
   "source": [
    "# Import the pathlib and csv library\n",
    "from pathlib import Path\n",
    "import csv"
   ]
  },
  {
   "cell_type": "code",
   "execution_count": 5,
   "id": "63155900-fff1-49e3-b690-907f27950146",
   "metadata": {},
   "outputs": [
    {
     "ename": "NameError",
     "evalue": "name 'Resources' is not defined",
     "output_type": "error",
     "traceback": [
      "\u001b[0;31m---------------------------------------------------------------------------\u001b[0m",
      "\u001b[0;31mNameError\u001b[0m                                 Traceback (most recent call last)",
      "\u001b[0;32m<ipython-input-5-688ece69a6c3>\u001b[0m in \u001b[0;36m<module>\u001b[0;34m\u001b[0m\n\u001b[1;32m      1\u001b[0m \u001b[0;31m# Set the file path\u001b[0m\u001b[0;34m\u001b[0m\u001b[0;34m\u001b[0m\u001b[0;34m\u001b[0m\u001b[0m\n\u001b[0;32m----> 2\u001b[0;31m \u001b[0mcsv\u001b[0m \u001b[0;34m=\u001b[0m \u001b[0mPath\u001b[0m\u001b[0;34m(\u001b[0m\u001b[0mResources\u001b[0m\u001b[0;34m/\u001b[0m\u001b[0mbudget_data\u001b[0m\u001b[0;34m.\u001b[0m\u001b[0mcsv\u001b[0m\u001b[0;34m)\u001b[0m\u001b[0;34m\u001b[0m\u001b[0;34m\u001b[0m\u001b[0m\n\u001b[0m",
      "\u001b[0;31mNameError\u001b[0m: name 'Resources' is not defined"
     ]
    }
   ],
   "source": [
    "# Set the file path\n",
    "budget_path = 'Resources/budget_data.csv'\n",
    "csv = Path('Resources/budget_data.csv')\n",
    "csv = Path(budget_path)"
   ]
  },
  {
   "cell_type": "code",
   "execution_count": 2,
   "id": "007d83b6-b446-4a9a-ac25-39af0beadeec",
   "metadata": {},
   "outputs": [],
   "source": [
    "# Initialize the metric variables\n",
    "count = 0\n",
    "net_total = 0\n",
    "average = 0\n",
    "\n"
   ]
  },
  {
   "cell_type": "code",
   "execution_count": null,
   "id": "89601251-6126-42c6-84c2-40c713013c08",
   "metadata": {},
   "outputs": [],
   "source": [
    "# Initialize lists to hold profitable and unprofitable"
   ]
  }
 ],
 "metadata": {
  "kernelspec": {
   "display_name": "Python 3",
   "language": "python",
   "name": "python3"
  },
  "language_info": {
   "codemirror_mode": {
    "name": "ipython",
    "version": 3
   },
   "file_extension": ".py",
   "mimetype": "text/x-python",
   "name": "python",
   "nbconvert_exporter": "python",
   "pygments_lexer": "ipython3",
   "version": "3.8.8"
  }
 },
 "nbformat": 4,
 "nbformat_minor": 5
}
