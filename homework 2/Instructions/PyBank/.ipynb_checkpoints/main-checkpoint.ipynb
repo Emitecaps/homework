{
 "cells": [
  {
   "cell_type": "code",
   "execution_count": 1,
   "id": "0b63ddf5-5fed-4063-b4f5-344f5afc7a24",
   "metadata": {},
   "outputs": [],
   "source": [
    "# Import the pathlib and csv library\n",
    "from pathlib import Path\n",
    "import csv"
   ]
  },
  {
   "cell_type": "code",
   "execution_count": 2,
   "id": "63155900-fff1-49e3-b690-907f27950146",
   "metadata": {},
   "outputs": [],
   "source": [
    "# Set the file path\n",
    "csv = Path('../Pybank/Resources/budget_data.csv')"
   ]
  },
  {
   "cell_type": "code",
   "execution_count": 2,
   "id": "007d83b6-b446-4a9a-ac25-39af0beadeec",
   "metadata": {},
   "outputs": [],
   "source": [
    "# Initialize the metric variables\n",
    "count = 0\n",
    "net_total = 0\n",
    "average = 0\n",
    "\n"
   ]
  },
  {
   "cell_type": "code",
   "execution_count": null,
   "id": "89601251-6126-42c6-84c2-40c713013c08",
   "metadata": {},
   "outputs": [],
   "source": [
    "# Initialize lists to hold profitable and unprofitable"
   ]
  }
 ],
 "metadata": {
  "kernelspec": {
   "display_name": "Python 3",
   "language": "python",
   "name": "python3"
  },
  "language_info": {
   "codemirror_mode": {
    "name": "ipython",
    "version": 3
   },
   "file_extension": ".py",
   "mimetype": "text/x-python",
   "name": "python",
   "nbconvert_exporter": "python",
   "pygments_lexer": "ipython3",
   "version": "3.8.8"
  }
 },
 "nbformat": 4,
 "nbformat_minor": 5
}
